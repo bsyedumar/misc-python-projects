{
  "nbformat": 4,
  "nbformat_minor": 0,
  "metadata": {
    "colab": {
      "name": "ClassificationReport.ipynb",
      "provenance": [],
      "authorship_tag": "ABX9TyN3EhzX3huHr6DGs4rRvMjC",
      "include_colab_link": true
    },
    "kernelspec": {
      "name": "python3",
      "display_name": "Python 3"
    },
    "language_info": {
      "name": "python"
    }
  },
  "cells": [
    {
      "cell_type": "markdown",
      "metadata": {
        "id": "view-in-github",
        "colab_type": "text"
      },
      "source": [
        "<a href=\"https://colab.research.google.com/github/bsyedumar/misc-python-projects/blob/main/ClassificationReport.ipynb\" target=\"_parent\"><img src=\"https://colab.research.google.com/assets/colab-badge.svg\" alt=\"Open In Colab\"/></a>"
      ]
    },
    {
      "cell_type": "code",
      "execution_count": null,
      "metadata": {
        "colab": {
          "base_uri": "https://localhost:8080/"
        },
        "id": "EIxg7UVe0h1H",
        "outputId": "9f50b61d-25ad-48e5-e974-f84448a7fffe"
      },
      "outputs": [
        {
          "output_type": "stream",
          "name": "stdout",
          "text": [
            "              precision    recall  f1-score   support\n",
            "\n",
            "     class_0       0.92      0.80      0.86        15\n",
            "     class_1       0.85      0.82      0.84        28\n",
            "     class_2       0.71      0.91      0.80        11\n",
            "\n",
            "    accuracy                           0.83        54\n",
            "   macro avg       0.83      0.84      0.83        54\n",
            "weighted avg       0.84      0.83      0.83        54\n",
            "\n",
            "[[12  3  0]\n",
            " [ 1 23  4]\n",
            " [ 0  1 10]]\n"
          ]
        }
      ],
      "source": [
        "from sklearn import datasets\n",
        "from sklearn.tree import DecisionTreeClassifier\n",
        "from sklearn.model_selection import train_test_split\n",
        "from sklearn.metrics import classification_report, confusion_matrix\n",
        "\n",
        "wine = datasets.load_wine()\n",
        "X = wine.data\n",
        "y = wine.target\n",
        "\n",
        "class_names = wine.target_names\n",
        "\n",
        "X_train, X_test, y_train, y_test = train_test_split(X, y, test_size=0.30)\n",
        "classifier_tree = DecisionTreeClassifier()\n",
        "\n",
        "y_predict = classifier_tree.fit(X_train, y_train).predict(X_test)\n",
        "\n",
        "print(classification_report(y_test, y_predict, target_names=class_names))\n",
        "\n",
        "print(confusion_matrix(y_test, y_predict))"
      ]
    }
  ]
}